{
 "cells": [
  {
   "cell_type": "code",
   "execution_count": 9,
   "metadata": {},
   "outputs": [],
   "source": [
    "import seaborn as sns\n",
    "import random"
   ]
  },
  {
   "cell_type": "markdown",
   "metadata": {},
   "source": [
    "## Multi-stage game\n",
    "\n",
    "* Stage 1: Established firms decide which technologies to research.\n",
    "* Stage 2: If a new technology has not been invented, a new entrent can invent it instead. The new entrent decides whether it wants to cooperate with established firms or enter the market as a new firm.\n",
    "* Stage 3a: Established firms and new entrent cooperate. Establish firm decides whether to produce the new technology or the old technology (based on cost of production differences).\n",
    "* Stage 3b: Established firms and new entrents compete. New entrent as the better product. Consumer sales are calculated and subtracted from overall cost.\n",
    "* Stage 4: All firms decide whether to stay in the product market based on profit margin. New entrents need only break even to remain. Established firms must continue to make a profit."
   ]
  },
  {
   "cell_type": "markdown",
   "metadata": {},
   "source": [
    "## Decision Theory Notation\n",
    "\n",
    "### Stage 1 (Modeled on Acemoglu 2012):\n",
    "> - There are $n$ firms. Each firm makes one choice between small and big. Each firm starts with a market share which is directly proportional to consumer base and marginal profits.\n",
    "    - For $z$ firms with $E[U] = 0$, the market size benefit $m_z = n  - z$ \n",
    "        - $z_1$ is dependent on *p* at $t =1$; $z_2$ is dependent on *s* at $t = 2$ \n",
    "        - $1 \\lt m_z \\lt 0$ \n",
    "    - If a firm picks small, they get $1 + \\lambda$ in return at time $t = 1$\n",
    "        - Expected utility, $E[U_1] = (1 + \\lambda) * m_z$\n",
    "    - If a firm picks big, there is a chance *p* that they will get $1 + 2\\lambda$ in return at time $t = 1$ or they return 0.\n",
    "        - $E[U_1] = [p(1 + 2\\lambda)] * m_z$ or 0\n",
    "        - $1 \\lt p \\lt 0$\n",
    "    - If a firm picks small, there is a chance *s* that the firm will remain in the market and return the same expected utility from time $ t = 1$ at time $t = 2$, else they will be forced out and return 0.\n",
    "        - $E[U_2] = [s(1 + \\lambda)] * m_z$ or 0\n",
    "        - $1 \\lt s \\lt 0$\n",
    "    - If a firm picks big, they will return standard expected utility $1 + \\lambda$ at time $t = 2$.\n",
    "        - $E[U_2] = (1 + \\lambda) * m_z$\n",
    "    - It is more likely that a firm will remain in the market at $t = 2$ than a firm will succeed at drawing customers with the big pick at $t = 1$.\n",
    "        - $s \\gt p$\n",
    "\n",
    "Notes: this model doesn't account for cumulative innovations which was included in Acemoglu dealt with completely new lines of technological innovation and this model addresses changes to the same product line which are modeled in incremental changes."
   ]
  },
  {
   "cell_type": "markdown",
   "metadata": {},
   "source": [
    "## Code Map\n",
    "\n",
    "### Stage 1\n",
    "Functions for calculating probabilities. Should return True if successful at the stage.\n",
    ">- probability calculators\n",
    "    - import random\n",
    "    - user defined variable - success_threshold_t1\n",
    "    - user defined variable - success_threshold_t2\n",
    "    - def success_big():\n",
    "        - p = random.randint(0, 100)\n",
    "        - if p > success_threshold_t1\n",
    "            - return True\n",
    "    - def stay_small():\n",
    "        - s = random.randint(0, 100)\n",
    "        - if s > success_threshold_t2\n",
    "            - return True\n",
    "\n",
    "Basic code map includes for single firm:\n",
    "1. Choose between big or small\n",
    "    - Global user defined variable - $\\lambda$\n",
    "    - Global variable - firm_choice\n",
    "    - If small, calculate expected utility\n",
    "        - $1 + \\lambda$\n",
    "    - If big, calculate probability of success\n",
    "        - if success_big() == True\n",
    "            - calculate expected utility\n",
    "            - $1 + 2 * \\lambda$\n",
    "        - else\n",
    "            - set expected utility = 0\n",
    "2. Assign total_profit variable as expected utility\n",
    "3. Output total_profit at time 1\n",
    "4. Calculate time 2 profit gains based on firm_choice\n",
    "    - If firm_choice == \"small\", calculate probability of staying\n",
    "        - if stay_small() == True\n",
    "            - calculate expected utility\n",
    "            - $1 + \\lambda$\n",
    "        - else\n",
    "            - set expected utility = 0\n",
    "    - If firm_choice == \"big\", calculate expected utility\n",
    "        - $1 + \\lambda$\n",
    "5. Update total_profit variable by adding new expected utility\n",
    "6. Output total_profit at time 2\n"
   ]
  },
  {
   "cell_type": "markdown",
   "metadata": {},
   "source": [
    "$U(success | b) = 1 + \\lambda$\n",
    "\n",
    "$U(\\neg success | b) = 0$\n",
    "\n",
    "$E(U | b) = \\sum_{x \\in X} U(x | b) p(x)$"
   ]
  },
  {
   "cell_type": "code",
   "execution_count": 10,
   "metadata": {},
   "outputs": [],
   "source": [
    "#create global variables\n",
    "firm_choice = \"big\"\n",
    "success_threshold_t1 = 99\n",
    "success_threshold_t2 = 75\n",
    "value_lambda = 1\n",
    "gain_multiplier = 2"
   ]
  },
  {
   "cell_type": "code",
   "execution_count": 11,
   "metadata": {},
   "outputs": [],
   "source": [
    "#single firm choice game for basic code outline\n",
    "\n",
    "#calculate whether a big action succeeds \n",
    "#using a threshold value which is user assigned and a randomly generated number\n",
    "def success_big(success_threshold_t1):\n",
    "    p = random.randint(0, 100)\n",
    "    return p < success_threshold_t1\n",
    "    \n",
    "#calculate whether a small action will stay in the market at time 2\n",
    "#using a threshold value which is user assigned and a randomly generated number \n",
    "def stay_small(success_threshold_t2):\n",
    "    s = random.randint(0, 100)\n",
    "    return s < success_threshold_t2\n",
    "\n",
    "#calculate utility at time 1 \n",
    "\n",
    "def utility_t1(firm_choice, gain_multiplier, value_lambda, success_threshold_t1):\n",
    "    if firm_choice == \"small\":\n",
    "        utility = 1 + value_lambda\n",
    "    else:\n",
    "        if success_big(success_threshold_t1):\n",
    "            utility = 1 + (gain_multiplier * value_lambda)\n",
    "        else:\n",
    "            utility = 0\n",
    "    return utility\n",
    "\n",
    "#calculate utility at time 2\n",
    "def utility_t2(firm_choice, value_lambda, success_threshold_t2):\n",
    "    utility = 1 + value_lambda\n",
    "    if firm_choice == \"small\":\n",
    "        if stay_small(success_threshold_t2) == False:\n",
    "            utility = 0\n",
    "    return utility\n",
    "        \n",
    "def total_utility(firm_choice, gain_multiplier, value_lambda, success_threshold_t1, success_threshold_t2):\n",
    "    #run through the steps of the process\n",
    "    total_profit = 0\n",
    "    \n",
    "    profit_t1 = utility_t1(firm_choice, gain_multiplier, value_lambda, success_threshold_t1)\n",
    "    total_profit += profit_t1\n",
    "    #output_t1 = \"Total profit at time 1 is {}.\"\n",
    "    #print(output_t1.format(total_profit))\n",
    "    \n",
    "    profit_t2 = utility_t2(firm_choice, value_lambda, success_threshold_t2)\n",
    "    total_profit += profit_t2\n",
    "    #output_t2 = \"Total profit at time 2 is {}.\"\n",
    "    #print(output_t2.format(total_profit))\n",
    "    \n",
    "    return total_profit\n"
   ]
  },
  {
   "cell_type": "code",
   "execution_count": 12,
   "metadata": {},
   "outputs": [],
   "source": [
    "def expected_total_utility(firm_choice, gain_multiplier, value_lambda, success_threshold_t1, success_threshold_t2):\n",
    "    \n",
    "    #numerically estimated the expected total utility using Monte Carlo methods\n",
    "    sum_utility = 0\n",
    "    n = 1000\n",
    "    \n",
    "    for i in range(n):\n",
    "        sum_utility += total_utility(firm_choice, gain_multiplier, value_lambda, success_threshold_t1, success_threshold_t2)\n",
    "        \n",
    "    return float(sum_utility) / n"
   ]
  },
  {
   "cell_type": "code",
   "execution_count": 13,
   "metadata": {},
   "outputs": [],
   "source": [
    "def delta_expected_total_utility(gain_multiplier, value_lambda, success_threshold_t1, success_threshold_t2):\n",
    "    \n",
    "    #numerically estimate the expected total utility using Monte Carlo methods\n",
    "    \n",
    "    big_eu = expected_total_utility(\"big\", gain_multiplier, value_lambda, success_threshold_t1, success_threshold_t2)\n",
    "    small_eu = expected_total_utility(\"small\", gain_multiplier, value_lambda, success_threshold_t1, success_threshold_t2)\n",
    "    \n",
    "    return big_eu - small_eu"
   ]
  },
  {
   "cell_type": "code",
   "execution_count": 14,
   "metadata": {},
   "outputs": [],
   "source": [
    "data = [delta_expected_total_utility(gain_multiplier, value_lambda, success_threshold_t1, success_threshold_t2)\n",
    "        for i in range(5000)]"
   ]
  },
  {
   "cell_type": "code",
   "execution_count": 15,
   "metadata": {},
   "outputs": [
    {
     "data": {
      "text/plain": [
       "<AxesSubplot:ylabel='Count'>"
      ]
     },
     "execution_count": 15,
     "metadata": {},
     "output_type": "execute_result"
    },
    {
     "data": {
      "image/png": "[encoded data removed]",
      "text/plain": [
       "<Figure size 432x288 with 1 Axes>"
      ]
     },
     "metadata": {
      "needs_background": "light"
     },
     "output_type": "display_data"
    }
   ],
   "source": [
    "sns.histplot(data)"
   ]
  },
  {
   "cell_type": "code",
   "execution_count": 16,
   "metadata": {},
   "outputs": [],
   "source": [
    "records = []\n",
    "\n",
    "for st1 in range(0,100,5):\n",
    "    for st2 in range(0,100,5):\n",
    "        records.append({\n",
    "            \"st1\" : st1,\n",
    "            \"st2\" : st2,\n",
    "            \"dEU\" : delta_expected_total_utility(gain_multiplier, value_lambda, st1, st2)\n",
    "        })"
   ]
  },
  {
   "cell_type": "code",
   "execution_count": 17,
   "metadata": {},
   "outputs": [
    {
     "data": {
      "text/plain": [
       "[0, 5, 10, 15, 20, 25, 30, 35, 40, 45, 50, 55, 60, 65, 70, 75, 80, 85, 90, 95]"
      ]
     },
     "execution_count": 17,
     "metadata": {},
     "output_type": "execute_result"
    }
   ],
   "source": [
    "list(range(0,100,5))"
   ]
  },
  {
   "cell_type": "code",
   "execution_count": 18,
   "metadata": {},
   "outputs": [],
   "source": [
    "import pandas as pd"
   ]
  },
  {
   "cell_type": "code",
   "execution_count": 19,
   "metadata": {},
   "outputs": [],
   "source": [
    "df = pd.DataFrame.from_records(records)"
   ]
  },
  {
   "cell_type": "code",
   "execution_count": 20,
   "metadata": {},
   "outputs": [
    {
     "data": {
      "text/html": [
       "<div>\n",
       "<style scoped>\n",
       "    .dataframe tbody tr th:only-of-type {\n",
       "        vertical-align: middle;\n",
       "    }\n",
       "\n",
       "    .dataframe tbody tr th {\n",
       "        vertical-align: top;\n",
       "    }\n",
       "\n",
       "    .dataframe thead th {\n",
       "        text-align: right;\n",
       "    }\n",
       "</style>\n",
       "<table border=\"1\" class=\"dataframe\">\n",
       "  <thead>\n",
       "    <tr style=\"text-align: right;\">\n",
       "      <th></th>\n",
       "      <th>st1</th>\n",
       "      <th>st2</th>\n",
       "      <th>dEU</th>\n",
       "    </tr>\n",
       "  </thead>\n",
       "  <tbody>\n",
       "    <tr>\n",
       "      <th>0</th>\n",
       "      <td>0</td>\n",
       "      <td>0</td>\n",
       "      <td>0.000</td>\n",
       "    </tr>\n",
       "    <tr>\n",
       "      <th>1</th>\n",
       "      <td>0</td>\n",
       "      <td>5</td>\n",
       "      <td>-0.090</td>\n",
       "    </tr>\n",
       "    <tr>\n",
       "      <th>2</th>\n",
       "      <td>0</td>\n",
       "      <td>10</td>\n",
       "      <td>-0.188</td>\n",
       "    </tr>\n",
       "    <tr>\n",
       "      <th>3</th>\n",
       "      <td>0</td>\n",
       "      <td>15</td>\n",
       "      <td>-0.298</td>\n",
       "    </tr>\n",
       "    <tr>\n",
       "      <th>4</th>\n",
       "      <td>0</td>\n",
       "      <td>20</td>\n",
       "      <td>-0.366</td>\n",
       "    </tr>\n",
       "    <tr>\n",
       "      <th>...</th>\n",
       "      <td>...</td>\n",
       "      <td>...</td>\n",
       "      <td>...</td>\n",
       "    </tr>\n",
       "    <tr>\n",
       "      <th>395</th>\n",
       "      <td>95</td>\n",
       "      <td>75</td>\n",
       "      <td>1.344</td>\n",
       "    </tr>\n",
       "    <tr>\n",
       "      <th>396</th>\n",
       "      <td>95</td>\n",
       "      <td>80</td>\n",
       "      <td>1.215</td>\n",
       "    </tr>\n",
       "    <tr>\n",
       "      <th>397</th>\n",
       "      <td>95</td>\n",
       "      <td>85</td>\n",
       "      <td>1.210</td>\n",
       "    </tr>\n",
       "    <tr>\n",
       "      <th>398</th>\n",
       "      <td>95</td>\n",
       "      <td>90</td>\n",
       "      <td>0.987</td>\n",
       "    </tr>\n",
       "    <tr>\n",
       "      <th>399</th>\n",
       "      <td>95</td>\n",
       "      <td>95</td>\n",
       "      <td>0.914</td>\n",
       "    </tr>\n",
       "  </tbody>\n",
       "</table>\n",
       "<p>400 rows × 3 columns</p>\n",
       "</div>"
      ],
      "text/plain": [
       "     st1  st2    dEU\n",
       "0      0    0  0.000\n",
       "1      0    5 -0.090\n",
       "2      0   10 -0.188\n",
       "3      0   15 -0.298\n",
       "4      0   20 -0.366\n",
       "..   ...  ...    ...\n",
       "395   95   75  1.344\n",
       "396   95   80  1.215\n",
       "397   95   85  1.210\n",
       "398   95   90  0.987\n",
       "399   95   95  0.914\n",
       "\n",
       "[400 rows x 3 columns]"
      ]
     },
     "execution_count": 20,
     "metadata": {},
     "output_type": "execute_result"
    }
   ],
   "source": [
    "df"
   ]
  },
  {
   "cell_type": "code",
   "execution_count": 21,
   "metadata": {},
   "outputs": [
    {
     "data": {
      "text/plain": [
       "<AxesSubplot:xlabel='st2', ylabel='st1'>"
      ]
     },
     "execution_count": 21,
     "metadata": {},
     "output_type": "execute_result"
    },
    {
     "data": {
      "image/png": "[encoded data removed]",
      "text/plain": [
       "<Figure size 432x288 with 2 Axes>"
      ]
     },
     "metadata": {
      "needs_background": "light"
     },
     "output_type": "display_data"
    }
   ],
   "source": [
    "sns.heatmap(df.pivot(\"st1\", \"st2\", \"dEU\"))"
   ]
  },
  {
   "cell_type": "markdown",
   "metadata": {},
   "source": [
    "## Code Map 2\n",
    "\n",
    "### Stage 1 w/ n firms\n",
    "\n",
    "Basic code map includes for n firms:\n",
    "1. Global variables:\n",
    "    - total_firms = n firms competing\n",
    "    - firm_choice\n",
    "    - success_threshold_t1\n",
    "    - success_threshold_t2\n",
    "    - value_lambda = profit scaler\n",
    "    - market_size = $\\frac{1}{n}$\n",
    "2. Calculate utility at time 1 for each firm\n",
    "    - utility_t1(firm_choice, value_lambda, success_threshold_t1)\n",
    "3. Count the number of firms separated by utility\n",
    "    - zero_firms = U[0]\n",
    "    - nonzero_firms = total_firms - zero-firms\n",
    "4. Adjust market_size at time 1 for each firm\n",
    "    - market_size should contract for zero_firms\n",
    "    - market_size should expand for nonzero_firms\n",
    "5. Calculate profit based on utility and market_size at time 1\n",
    "    - market_profit_t1 = utility_t1 * market_size\n",
    "6. Calculate utility at time 2 for each firm\n",
    "7. Count the number of firms separated by utility\n",
    "8. Adjust market_size at time 2 for each firm\n",
    "9. Calculate profit based on utiltiy and market_size at time 2\n",
    "    - market_profit_t2 = utility_t2 * market_size\n",
    "10. Calculate total market profit\n"
   ]
  },
  {
   "cell_type": "code",
   "execution_count": 22,
   "metadata": {},
   "outputs": [],
   "source": [
    "#new global variables to consider\n",
    "total_firms = 5\n",
    "market_size = 1 / total_firms"
   ]
  },
  {
   "cell_type": "code",
   "execution_count": 23,
   "metadata": {},
   "outputs": [],
   "source": [
    "#multi-firm choice game\n",
    "#calculate zero_firms\n",
    "def zero_firms_t1(total_firms, firm_choice, gain_multiplier, value_lambda, success_threshold_t1):\n",
    "    zero_firms = 0\n",
    "    n = total_firms\n",
    "    for i in range(n):\n",
    "        if utility_t1(firm_choice, gain_multiplier, value_lambda, success_threshold_t1) == 0:\n",
    "            zero_firms += 1\n",
    "            \n",
    "    return zero_firms\n",
    "\n",
    "def zero_firms_t2(total_firms, firm_choice, gain_multiplier, value_lambda, success_threshold_t2):\n",
    "    zero_firms = 0\n",
    "    n = total_firms\n",
    "    for i in range(n):\n",
    "        if utility_t2(firm_choice, gain_multiplier, value_lambda, success_threshold_t2) == 0:\n",
    "            zero_firms += 1\n",
    "    \n",
    "    return zero_firms\n",
    "\n",
    "#adjust market size for each firm\n",
    "def market_size_t1(market_size, total_firms, firm_choice, gain_multiplier, value_lambda, succes_threshold_t1):\n",
    "    pass\n",
    "\n",
    "def market_size_t2(market_size, total_firms, firm_choice, gain_multiplier, value_lambda, succes_threshold_t2):\n",
    "    pass\n",
    "\n",
    "#calculate market-based total utility\n",
    "def market_total_utility(market_size, total_firms, firm_choice, gain_multiplier, value_lambda, success_threshold_t1, success_threshold_t2):\n",
    "    pass"
   ]
  },
  {
   "cell_type": "code",
   "execution_count": null,
   "metadata": {},
   "outputs": [],
   "source": []
  }
 ],
 "metadata": {
  "kernelspec": {
   "display_name": "Python 3",
   "language": "python",
   "name": "python3"
  },
  "language_info": {
   "codemirror_mode": {
    "name": "ipython",
    "version": 3
   },
   "file_extension": ".py",
   "mimetype": "text/x-python",
   "name": "python",
   "nbconvert_exporter": "python",
   "pygments_lexer": "ipython3",
   "version": "3.8.8"
  },
  "latex_envs": {
   "LaTeX_envs_menu_present": true,
   "autoclose": false,
   "autocomplete": true,
   "bibliofile": "biblio.bib",
   "cite_by": "apalike",
   "current_citInitial": 1,
   "eqLabelWithNumbers": true,
   "eqNumInitial": 1,
   "hotkeys": {
    "equation": "Ctrl-E",
    "itemize": "Ctrl-I"
   },
   "labels_anchors": false,
   "latex_user_defs": false,
   "report_style_numbering": false,
   "user_envs_cfg": false
  },
  "toc": {
   "base_numbering": 1,
   "nav_menu": {},
   "number_sections": true,
   "sideBar": true,
   "skip_h1_title": false,
   "title_cell": "Table of Contents",
   "title_sidebar": "Contents",
   "toc_cell": false,
   "toc_position": {},
   "toc_section_display": true,
   "toc_window_display": false
  }
 },
 "nbformat": 4,
 "nbformat_minor": 4
}
