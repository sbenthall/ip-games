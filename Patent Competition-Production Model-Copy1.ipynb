{
 "cells": [
  {
   "cell_type": "markdown",
   "metadata": {},
   "source": [
    "## Multi-stage game\n",
    "\n",
    "* Stage 1: Established firms decide which technologies to research.\n",
    "* Stage 2: If a new technology has not been invented, a new entrent can invent it instead. The new entrent decides whether it wants to cooperate with established firms or enter the market as a new firm.\n",
    "* Stage 3a: Established firms and new entrent cooperate. Establish firm decides whether to produce the new technology or the old technology (based on cost of production differences).\n",
    "* Stage 3b: Established firms and new entrents compete. New entrent as the better product. Consumer sales are calculated and subtracted from overall cost.\n",
    "* Stage 4: All firms decide whether to stay in the product market based on profit margin. New entrents need only break even to remain. Established firms must continue to make a profit."
   ]
  },
  {
   "cell_type": "markdown",
   "metadata": {},
   "source": [
    "## Decision Theory Notation\n",
    "\n",
    "### Stage 1 (Modeled on Acemoglu 2012):\n",
    "> - There are $n$ firms. Each firm makes one choice between small and big. Each firm starts with a market share which is directly proportional to consumer base and marginal profits.\n",
    "    - For $z$ firms with $E[U] = 0$, the market size benefit $m_z = n  - z$ \n",
    "        - $z$ is dependent on *p* at $t =1$ and *s* at $t = 2$ \n",
    "        - $1 \\leq m_z \\leq 0$ \n",
    "    - If a firm picks small, they get $1 + \\lambda$ in return at time $t = 1$\n",
    "        - Expected utility, $E[U_1] = (1 + \\lambda) * m_z$\n",
    "    - If a firm picks big, there is a chance *p* that they will get $1 + 2\\lambda$ in return at time $t = 1$ or they return 0.\n",
    "        - $E[U_1] = [p(1 + 2\\lambda)] * m_z$ or 0\n",
    "        - $1 \\leq p \\leq 0$\n",
    "    - If a firm picks small, there is a chance *s* that the firm will remain in the market and return the same expected utility from time $ t = 1$ at time $t = 2$, else they will be forced out and return 0.\n",
    "        - $E[U_2] = [s(1 + \\lambda)] * m_z$ or 0\n",
    "        - $1 \\leq s \\leq 0$\n",
    "    - If a firm picks big, they will return standard expected utility $1 + \\lambda$ at time $t = 2$.\n",
    "        - $E[U_2] = (1 + \\lambda) * m_z$\n",
    "    - It is more likely that a firm will remain in the market at $t = 2$ than a firm will succeed at drawing customers with the big pick at $t = 1$.\n",
    "        - $s \\gt p$\n",
    "\n",
    "Notes: this model doesn't account for cumulative innovations which was included in Acemoglu dealt with completely new lines of technological innovation and this model addresses changes to the same product line which are modeled in incremental changes.\n",
    "\n",
    "### Stage 2\n",
    "* There are $n_e$ established firms. Each new entrant, $\\nu$, makes one choice between compete and cooperate. This process is done one new entrant at a time. Established firms start with a market share which is directly proportional to consumer base and marginal profits. Each new entrant starts with 0 market share."
   ]
  },
  {
   "cell_type": "markdown",
   "metadata": {},
   "source": [
    "## Environment\n",
    "\n",
    "Not sure how to make this a 2D space.\n",
    "\n",
    "### Stage 1 (starting conditions):\n",
    "starting conditions are useful markers for future stages\n",
    "> - establish firm as a breed\n",
    "    - randomly create $n$ firms (turtle value)\n",
    "        - use slider to manipulate $n$, between 1 - 50 should be sufficient\n",
    "    - firm owned variables include\n",
    "        - market share, which is a proxy for profitability\n",
    "            - for the purpose of this model, market share is split between all firms\n",
    "            - to start, there can be two options for the split: evenly $\\frac{1}{n}$ or proportional such that $\\sum_1^n p*\\frac{1}{n} = n$\n"
   ]
  },
  {
   "cell_type": "markdown",
   "metadata": {},
   "source": [
    "# Overall model\n",
    "\n",
    "Alternate consumer and firm cycles."
   ]
  },
  {
   "cell_type": "code",
   "execution_count": null,
   "metadata": {},
   "outputs": [],
   "source": []
  }
 ],
 "metadata": {
  "kernelspec": {
   "display_name": "Python 3",
   "language": "python",
   "name": "python3"
  },
  "language_info": {
   "codemirror_mode": {
    "name": "ipython",
    "version": 3
   },
   "file_extension": ".py",
   "mimetype": "text/x-python",
   "name": "python",
   "nbconvert_exporter": "python",
   "pygments_lexer": "ipython3",
   "version": "3.8.8"
  },
  "latex_envs": {
   "LaTeX_envs_menu_present": true,
   "autoclose": false,
   "autocomplete": true,
   "bibliofile": "biblio.bib",
   "cite_by": "apalike",
   "current_citInitial": 1,
   "eqLabelWithNumbers": true,
   "eqNumInitial": 1,
   "hotkeys": {
    "equation": "Ctrl-E",
    "itemize": "Ctrl-I"
   },
   "labels_anchors": false,
   "latex_user_defs": false,
   "report_style_numbering": false,
   "user_envs_cfg": false
  },
  "toc": {
   "base_numbering": 1,
   "nav_menu": {},
   "number_sections": true,
   "sideBar": true,
   "skip_h1_title": false,
   "title_cell": "Table of Contents",
   "title_sidebar": "Contents",
   "toc_cell": false,
   "toc_position": {},
   "toc_section_display": true,
   "toc_window_display": false
  }
 },
 "nbformat": 4,
 "nbformat_minor": 4
}
