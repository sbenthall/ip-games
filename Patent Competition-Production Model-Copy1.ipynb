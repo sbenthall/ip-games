{
 "cells": [
  {
   "cell_type": "markdown",
   "metadata": {},
   "source": [
    "## Multi-stage game\n",
    "\n",
    "* Stage 1: Established firms decide which technologies to research.\n",
    "* Stage 2: If a new technology has not been invented, a new entrent can invent it instead. The new entrent decides whether it wants to cooperate with established firms or enter the market as a new firm.\n",
    "* Stage 3a: Established firms and new entrent cooperate. Establish firm decides whether to produce the new technology or the old technology (based on cost of production differences).\n",
    "* Stage 3b: Established firms and new entrents compete. New entrent as the better product. Consumer sales are calculated and subtracted from overall cost.\n",
    "* Stage 4: All firms decide whether to stay in the product market based on profit margin. New entrents need only break even to remain. Established firms must continue to make a profit."
   ]
  },
  {
   "cell_type": "markdown",
   "metadata": {},
   "source": [
    "## Environment\n",
    "\n",
    "Not sure how to make this a 2D space.\n",
    "\n",
    "### Stage 1: \n",
    "* Considers a two-period economy, with periods $t = 1$ and $t = 2$ and no discounting. \n",
    "* There are two possible technologies *j* and *j'*, both starting $t = 1$ with qualities $q_j(0) = q_j'(0) = 1$. \n",
    "* A firm may direct its researchers to work on either technology but the researchers have only one unit of time total to complete research. The probability of improving either of the two technologies when they devote *x* units of their time to the technology is *h(x)*. \n",
    "    * Suppose that *h* is strictly increasing, differentiable, and concave, and satisfies the Inada condition that $lim_{x->0} h'(x) = \\infty$. An improvement increases the quality of the technology:\n",
    "        * $j = 1 + \\lambda$ (with $\\lambda > 0$)\n",
    "        * $j' = 1 + 2\\lambda$ (assuming that improvements made to *j'* have twice the value as *j* becuase they sigficantly effect consumer base and increases to overall sales)\n",
    "    * At time $t = 1$, *j* is the \"known\" technology, so if researchers improve technology *j* the established firm knows that the improvement will be profitable and has an active market. \n",
    "        * $j = 1 + \\lambda$\n",
    "    * At time $t = 1$, *j'* is the \"unknown\" technology, so if researchers improve technology *j'* there is some probability *p*, such that $p > 0$, that the improvement can be marketed now to make a profit. \n",
    "        * $j' = p(1 + 2\\lambda)$\n",
    "        * $j' = 1 + 2\\lambda$ or 0, if marketed at $t = 1$\n",
    "    * At time $t = 2$, technology *j'* is the \"known\" technology with probability $r > 0$ of replacing technology *j* such that *j* is no longer profitable and only *j'* will be known to make a profit. If *j* is replaced then, *j'* receives monopoly profit *m*.\n",
    "    * Before either of the two technologies (*j* or *j'*) is marketed at $t = 2$, other researchers from different firms can further improve upon the technology *j'* if it is not marketed at $t = 1$.\n",
    "        * Suppose that further innovation occurs eith (exogenous) probability $v \\in (0,1]$. In such an event, the quality of the product increases by a factor $1 + \\lambda$ but the original firm that developed the product does not receive the extra return.\n",
    "        \n",
    "Consider the optimal allocation of time. When a firm devotes $x_j \\in [0,1]$ units of researchers time to technology *j*, their return on investment for the marketed product is:\n",
    "\n",
    " \\begin{equation} \\pi(x_j) = h(x_j)[1 + (1 - r)(1 - v)](1 + \\lambda) + h(1 - x_j)r(1 - v)(1 + \\lambda)\\end{equation}\n",
    "\n",
    "This explains the expected return from the innovation of technology *j*. The improvement is successful with probability $h(x_j)$ and receives immediate returns $1 + \\lambda$. In the next period, technology *j* is not replaced by *j'* with probability $1 - r$ and the innovation is not improved upon with probability $1 - v$, such that the improvement profit stays with the firm. \n",
    "\n",
    "If the firm successfully undertakes research for *j'* instead.\n",
    "\n",
    "\\begin{equation} \\pi(x_j') = h'(x_j')[1 + (1 - p)(1 - v)](1 + 2\\lambda) + h'(1 - x_j')p(1 - v)m(1 - r)(1 + \\lambda)\\end{equation}\n",
    "\n",
    "This explains the expected return from the innovation of technology *j'*. The improvement is successful with probability $h'(x-j')$ and receives profits with probability $1 - p$."
   ]
  },
  {
   "cell_type": "markdown",
   "metadata": {},
   "source": [
    "# Overall model\n",
    "\n",
    "Alternate consumer and firm cycles."
   ]
  },
  {
   "cell_type": "code",
   "execution_count": null,
   "metadata": {},
   "outputs": [],
   "source": []
  }
 ],
 "metadata": {
  "kernelspec": {
   "display_name": "Python 3",
   "language": "python",
   "name": "python3"
  },
  "language_info": {
   "codemirror_mode": {
    "name": "ipython",
    "version": 3
   },
   "file_extension": ".py",
   "mimetype": "text/x-python",
   "name": "python",
   "nbconvert_exporter": "python",
   "pygments_lexer": "ipython3",
   "version": "3.8.8"
  },
  "latex_envs": {
   "LaTeX_envs_menu_present": true,
   "autoclose": false,
   "autocomplete": true,
   "bibliofile": "biblio.bib",
   "cite_by": "apalike",
   "current_citInitial": 1,
   "eqLabelWithNumbers": true,
   "eqNumInitial": 1,
   "hotkeys": {
    "equation": "Ctrl-E",
    "itemize": "Ctrl-I"
   },
   "labels_anchors": false,
   "latex_user_defs": false,
   "report_style_numbering": false,
   "user_envs_cfg": false
  },
  "toc": {
   "base_numbering": 1,
   "nav_menu": {},
   "number_sections": true,
   "sideBar": true,
   "skip_h1_title": false,
   "title_cell": "Table of Contents",
   "title_sidebar": "Contents",
   "toc_cell": false,
   "toc_position": {},
   "toc_section_display": true,
   "toc_window_display": false
  }
 },
 "nbformat": 4,
 "nbformat_minor": 4
}
