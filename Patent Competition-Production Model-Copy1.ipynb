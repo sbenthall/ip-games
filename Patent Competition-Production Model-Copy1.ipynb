{
 "cells": [
  {
   "cell_type": "markdown",
   "metadata": {},
   "source": [
    "## Multi-stage game\n",
    "\n",
    "* Stage 1: Established firms decide which technologies to research.\n",
    "* Stage 2: If a new technology has not been invented, a new entrent can invent it instead. The new entrent decides whether it wants to cooperate with established firms or enter the market as a new firm.\n",
    "* Stage 3a: Established firms and new entrent cooperate. Establish firm decides whether to produce the new technology or the old technology (based on cost of production differences).\n",
    "* Stage 3b: Established firms and new entrents compete. New entrent as the better product. Consumer sales are calculated and subtracted from overall cost.\n",
    "* Stage 4: All firms decide whether to stay in the product market based on profit margin. New entrents need only break even to remain. Established firms must continue to make a profit."
   ]
  },
  {
   "cell_type": "markdown",
   "metadata": {},
   "source": [
    "## Decision Theory Notation\n",
    "\n",
    "### Stage 1 (Modeled on Acemoglu 2012):\n",
    "> - There are $n$ firms. Each firm makes one choice between small and big. Each firm starts with a market share which is directly proportional to consumer base and marginal profits.\n",
    "    - For $z$ firms with $E[U] = 0$, the market size benefit $m_z = n  - z$ \n",
    "        - $z_1$ is dependent on *p* at $t =1$; $z_2$ is dependent on *s* at $t = 2$ \n",
    "        - $1 \\lt m_z \\lt 0$ \n",
    "    - If a firm picks small, they get $1 + \\lambda$ in return at time $t = 1$\n",
    "        - Expected utility, $E[U_1] = (1 + \\lambda) * m_z$\n",
    "    - If a firm picks big, there is a chance *p* that they will get $1 + 2\\lambda$ in return at time $t = 1$ or they return 0.\n",
    "        - $E[U_1] = [p(1 + 2\\lambda)] * m_z$ or 0\n",
    "        - $1 \\lt p \\lt 0$\n",
    "    - If a firm picks small, there is a chance *s* that the firm will remain in the market and return the same expected utility from time $ t = 1$ at time $t = 2$, else they will be forced out and return 0.\n",
    "        - $E[U_2] = [s(1 + \\lambda)] * m_z$ or 0\n",
    "        - $1 \\lt s \\lt 0$\n",
    "    - If a firm picks big, they will return standard expected utility $1 + \\lambda$ at time $t = 2$.\n",
    "        - $E[U_2] = (1 + \\lambda) * m_z$\n",
    "    - It is more likely that a firm will remain in the market at $t = 2$ than a firm will succeed at drawing customers with the big pick at $t = 1$.\n",
    "        - $s \\gt p$\n",
    "\n",
    "Notes: this model doesn't account for cumulative innovations which was included in Acemoglu dealt with completely new lines of technological innovation and this model addresses changes to the same product line which are modeled in incremental changes."
   ]
  },
  {
   "cell_type": "markdown",
   "metadata": {},
   "source": [
    "## Code Map\n",
    "\n",
    "### Stage 1\n",
    "Functions for calculating probabilities. Should return True if successful at the stage.\n",
    ">- probability calculators\n",
    "    - import random\n",
    "    - user defined variable - success_threshold_t1\n",
    "    - user defined variable - success_threshold_t2\n",
    "    - def success_big():\n",
    "        - p = random.randint(0, 100)\n",
    "        - if p > success_threshold_t1\n",
    "            - return True\n",
    "    - def stay_small():\n",
    "        - s = random.randint(0, 100)\n",
    "        - if s > success_threshold_t2\n",
    "            - return True\n",
    "\n",
    "Basic code map includes for single firm:\n",
    "1. Choose between big or small\n",
    "    - Global user defined variable - $\\lambda$\n",
    "    - Global variable - firm_choice\n",
    "    - Local variable - expected utility\n",
    "    - If small, calculate expected utility\n",
    "        - $1 + \\lambda$\n",
    "        - set firm_choice = \"small\"\n",
    "    - If big, calculate probability of success\n",
    "        - if success_big() == True\n",
    "            - calculate expected utility\n",
    "            - $1 + 2 * \\lambda$\n",
    "            - set firm_choice = \"big\"\n",
    "        - else\n",
    "            - set expected utility = 0\n",
    "            - set firm_choice = \"big\"\n",
    "2. Assign total_profit variable as expected utility\n",
    "3. Output total_profit at time 1\n",
    "4. Calculate time 2 profit gains based on firm_choice\n",
    "    - If firm_choice == \"small\", calculate probability of staying\n",
    "        - if stay_small() == True\n",
    "            - calculate expected utility\n",
    "            - $1 + \\lambda$\n",
    "        - else\n",
    "            - set expected utility = 0\n",
    "    - If firm_choice == \"big\", calculate expected utility\n",
    "        - $1 + \\lambda$\n",
    "5. Update total_profit variable by adding new expected utility\n",
    "6. Output total_profit at time 2\n"
   ]
  },
  {
   "cell_type": "code",
   "execution_count": null,
   "metadata": {},
   "outputs": [],
   "source": [
    "import random\n",
    "\n",
    "#calculate whether a big action succeeds \n",
    "#using a threshold value which is user assigned and a randomly generated number\n",
    "def success_big(p, success_threshold_t1):\n",
    "    p = random.randint(0, 100)\n",
    "    if p > success_threshold_t1\n",
    "        return True\n",
    "    \n",
    "#calculate whether a small action will stay in the market at time 2\n",
    "#using a threshold value which is user assigned and a randomly generated number \n",
    "def stay_small(s, success_threshold_t2):\n",
    "    s = random.randint(0, 100)\n",
    "    if s > success_threshold_t2\n",
    "        return True\n",
    "\n",
    "#get user input for success thresholds and lambda\n",
    "#check to make sure the input is an number\n",
    "def get_user_input():\n",
    "    success_threshold_t1 = input(\"Input the threshold percentage # for success rate of a big action: \")\n",
    "    success_threshold_t2 = input(\"Input the threshold percentage # for staying in the market with a small action: \")\n",
    "    value_lambda = input(\"Input profit value # for lambda: \")\n",
    "    params = [success_threshold_t1, success_threshold_t2, value_lambda]\n",
    "    \n",
    "    if all(str(i).isdigit() for i in params): \n",
    "        params = [int(x) for x in params]\n",
    "    else: \n",
    "        print(\"Could not parse input. The simulation will use default values:\", \"\\n 25 % successful big action, 75 % small action will stay, 5 profit value lambda.\", )\n",
    "        params = [25, 75, 5]\n",
    "    return params\n",
    "\n"
   ]
  },
  {
   "cell_type": "markdown",
   "metadata": {},
   "source": [
    "# Overall model\n",
    "\n",
    "Alternate consumer and firm cycles."
   ]
  },
  {
   "cell_type": "code",
   "execution_count": null,
   "metadata": {},
   "outputs": [],
   "source": []
  }
 ],
 "metadata": {
  "kernelspec": {
   "display_name": "Python 3",
   "language": "python",
   "name": "python3"
  },
  "language_info": {
   "codemirror_mode": {
    "name": "ipython",
    "version": 3
   },
   "file_extension": ".py",
   "mimetype": "text/x-python",
   "name": "python",
   "nbconvert_exporter": "python",
   "pygments_lexer": "ipython3",
   "version": "3.8.8"
  },
  "latex_envs": {
   "LaTeX_envs_menu_present": true,
   "autoclose": false,
   "autocomplete": true,
   "bibliofile": "biblio.bib",
   "cite_by": "apalike",
   "current_citInitial": 1,
   "eqLabelWithNumbers": true,
   "eqNumInitial": 1,
   "hotkeys": {
    "equation": "Ctrl-E",
    "itemize": "Ctrl-I"
   },
   "labels_anchors": false,
   "latex_user_defs": false,
   "report_style_numbering": false,
   "user_envs_cfg": false
  },
  "toc": {
   "base_numbering": 1,
   "nav_menu": {},
   "number_sections": true,
   "sideBar": true,
   "skip_h1_title": false,
   "title_cell": "Table of Contents",
   "title_sidebar": "Contents",
   "toc_cell": false,
   "toc_position": {},
   "toc_section_display": true,
   "toc_window_display": false
  }
 },
 "nbformat": 4,
 "nbformat_minor": 4
}
